{
 "cells": [
  {
   "cell_type": "code",
   "execution_count": 1,
   "metadata": {},
   "outputs": [],
   "source": [
    "import pandas as pd\n",
    "import numpy as np\n",
    "import seaborn as sns\n",
    "import matplotlib.pyplot as plt\n"
   ]
  },
  {
   "cell_type": "markdown",
   "metadata": {},
   "source": [
    "## **Dataset Publik E-Commerce Brasil oleh Olist**\n",
    "\n",
    "The dataset has information of 100k orders from 2016 to 2018 made in several markets in Brazil. This is real commercial data, it has been anonymized.\n",
    "This dataset is generously provided by Olist, the largest department store on the Brazilian market. Olist connects small businesses from all over Brazil to the channel without any hassle and with one contract. The merchant can sell their products through the Olist Store and have them shipped directly to the customer using the Olist logistics partner. Once the customer purchases the product from the Olist Store, the seller will be notified to fulfill that order. Once the customer receives the product, or the estimated delivery date is due, the customer gets a satisfaction survey via email where he or she can provide a note for the purchase experience and some comments."
   ]
  },
  {
   "cell_type": "markdown",
   "metadata": {},
   "source": [
    "| Columns Name | Data Type, Length | Description | Present |\n",
    "| -- | -- | -- | -- |\n",
    "| customer_id | object | Key to the orders dataset. Each order has a unique customer_id.| Unique customer id to merge with orders dataset |\n",
    "| customer_unique_id | object | unique identifier of a customer.| represent customer unique id\n",
    "| customer_zip_code_prefix | int64 | first five digits of customer zip code| represent first five zip code of geolocation customer\n",
    "| customer_city  |  object |customer city name| a customer city name in brazzil\n",
    "| customer_state |  object |customer state| represent 2 letters of name customer sate\n",
    "| geolocation_zip_code_prefix | int64 |first 5 digits of zip code| represent first five zip code of geolocation city and state\n",
    "| geolocation_lat | float64 |Geolocation latitude| represent of the angular distance of a place north or south of the earth's equator, or of a celestial object north or south of the celestial equator, expressed in degrees.\n",
    "| geolocation_lng | float64 |Geolocation longitude| the angular distance of a place east or west of the meridian at Greenwich, England, or west of the standard meridian of a celestial object, expressed in degrees.\n",
    "| geolocation_city |  object |city name| represent of geolocation city name\n",
    "| geolocation_state |  object |state| represent 2 letter of state where the geolocation is \n",
    "| order_id  |  object |order unique identifier| An unique id where every transaction have order id\n",
    "| order_item_id | int64 |sequential number identifying number of items included in the same order.| A serial number for an unique identifier assigned  sequentially to an item, to uniquely identify it\n",
    "| product_id  |  object |product unique identifier| A serial number for a unique identifier assigned  to an product, to uniquely identify it\n",
    "| seller_id | object  |seller unique identifier| A serial number for a unique identifier assigned  to an seller, to uniquely identify it\n",
    "| shipping_limit_date| object  |Shows the seller shipping limit date for handling the order over to the logistic partner.| the estimated delivery date is when a customer can reasonably expect the order to arrive.\n",
    "| price | float64 |item price| the retail price of each item of consumer goods.\n",
    "| freight_value | float64 |item freight value item (if an order has more than one item the freight value is splitted between)|  a price at which a certain cargo is delivered from one point to another\n",
    "| payment_sequential | int64 |a customer may pay an order with more than one payment method. If he does so, a sequence will be| a sequential pay structure, principal payments are typically allocated to the securities in order of seniority.\n",
    "| payment_type |  object |method of payment chosen by the customer.| A various of type payment for customer to pay a transaction\n",
    "| payment_installments | int64 |number of installments chosen by the customer.| Instalment payments refer to a customer paying a bill in small portions throughout a fixed period of time\n",
    "| payment_value  | float64 | transaction value.| A total of amount money customer need to pay to succesfull transaction"
   ]
  }
 ],
 "metadata": {
  "interpreter": {
   "hash": "6ba20dcb61a7b7dbffec499c9bf930f2d810f659485a730234178804e41b424e"
  },
  "kernelspec": {
   "display_name": "Python 3.8.8 64-bit ('base': conda)",
   "language": "python",
   "name": "python3"
  },
  "language_info": {
   "codemirror_mode": {
    "name": "ipython",
    "version": 3
   },
   "file_extension": ".py",
   "mimetype": "text/x-python",
   "name": "python",
   "nbconvert_exporter": "python",
   "pygments_lexer": "ipython3",
   "version": "3.8.8"
  },
  "orig_nbformat": 4
 },
 "nbformat": 4,
 "nbformat_minor": 2
}
