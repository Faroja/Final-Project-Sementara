{
 "cells": [
  {
   "cell_type": "code",
   "execution_count": 1,
   "metadata": {},
   "outputs": [],
   "source": [
    "import pandas as pd\n",
    "import numpy as np\n",
    "import seaborn as sns\n",
    "import matplotlib.pyplot as plt\n"
   ]
  },
  {
   "cell_type": "markdown",
   "metadata": {},
   "source": [
    "## **Dataset Publik E-Commerce Brasil oleh Olist**\n",
    "\n",
    "Dataset memiliki informasi 100k pesanan dari 2016 hingga 2018 yang dibuat di beberapa pasar di Brasil.Ini adalah data komersial nyata, telah dianonimkan.\n",
    "Dataset ini disediakan dengan murah hati oleh Olist, department store terbesar di pasar Brasil. Olist menghubungkan bisnis kecil dari seluruh Brasil ke saluran tanpa kerumitan dan dengan satu kontrak. Pedagang tersebut dapat menjual produk mereka melalui Toko Olist dan mengirimkannya langsung ke pelanggan menggunakan mitra logistik Olist.Setelah pelanggan membeli produk dari Olist Store, penjual akan diberitahu untuk memenuhi pesanan itu. Setelah pelanggan menerima produk, atau perkiraan tanggal pengiriman jatuh tempo, pelanggan mendapatkan survei kepuasan melalui email di mana ia dapat memberikan catatan untuk pengalaman pembelian dan menuliskan beberapa komentar."
   ]
  },
  {
   "cell_type": "markdown",
   "metadata": {},
   "source": [
    "| Columns Name | Data Type, Length | Description |\n",
    "| -- | -- | -- |\n",
    "| customer_id | object | Key to the orders dataset. Each order has a unique customer_id.|\n",
    "| customer_unique_id | object | unique identifier of a customer.|\n",
    "| customer_zip_code_prefix | int64 | first five digits of customer zip code|\n",
    "| customer_city  |  object |customer city name|\n",
    "| customer_state |  object |customer state|\n",
    "| geolocation_zip_code_prefix | int64 |first 5 digits of zip code|\n",
    "| geolocation_lat | float64 |Geolocation latitude|\n",
    "| geolocation_lng | float64 |Geolocation longitude|\n",
    "| geolocation_city |  object |city name|\n",
    "| geolocation_state |  object |state|\n",
    "| order_id  |  object |order unique identifier|\n",
    "| order_item_id | int64 |sequential number identifying number of items included in the same order.|\n",
    "| product_id  |  object |product unique identifier|\n",
    "| seller_id | object  |seller unique identifier|\n",
    "| shipping_limit_date| object  |Shows the seller shipping limit date for handling the order over to the logistic partner.|\n",
    "| price | float64 |item price|\n",
    "| freight_value | float64 |item freight value item (if an order has more than one item the freight value is splitted between)|\n",
    "| payment_sequential | int64 |a customer may pay an order with more than one payment method. If he does so, a sequence will be|\n",
    "| payment_type |  object |method of payment chosen by the customer.|\n",
    "| payment_installments | int64 |number of installments chosen by the customer.|\n",
    "| payment_value  | float64 | transaction value.|"
   ]
  }
 ],
 "metadata": {
  "interpreter": {
   "hash": "6ba20dcb61a7b7dbffec499c9bf930f2d810f659485a730234178804e41b424e"
  },
  "kernelspec": {
   "display_name": "Python 3.8.8 64-bit ('base': conda)",
   "language": "python",
   "name": "python3"
  },
  "language_info": {
   "codemirror_mode": {
    "name": "ipython",
    "version": 3
   },
   "file_extension": ".py",
   "mimetype": "text/x-python",
   "name": "python",
   "nbconvert_exporter": "python",
   "pygments_lexer": "ipython3",
   "version": "3.8.8"
  },
  "orig_nbformat": 4
 },
 "nbformat": 4,
 "nbformat_minor": 2
}
