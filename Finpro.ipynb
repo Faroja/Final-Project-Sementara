{
 "cells": [
  {
   "cell_type": "code",
   "execution_count": 2,
   "metadata": {},
   "outputs": [],
   "source": [
    "import pandas as pd\n",
    "import numpy as np\n",
    "import seaborn as sns\n",
    "import matplotlib.pyplot as plt\n",
    "import datetime as dp\n"
   ]
  },
  {
   "cell_type": "markdown",
   "metadata": {},
   "source": [
    "## **Dataset Publik E-Commerce Brasil oleh Olist**\n",
    "\n",
    "The dataset has information of 100k orders from 2016 to 2018 made in several markets in Brazil. This is real commercial data, it has been anonymized.\n",
    "This dataset is generously provided by Olist, the largest department store on the Brazilian market. Olist connects small businesses from all over Brazil to the channel without any hassle and with one contract. The merchant can sell their products through the Olist Store and have them shipped directly to the customer using the Olist logistics partner. Once the customer purchases the product from the Olist Store, the seller will be notified to fulfill that order. Once the customer receives the product, or the estimated delivery date is due, the customer gets a satisfaction survey via email where he or she can provide a note for the purchase experience and some comments."
   ]
  },
  {
   "cell_type": "markdown",
   "metadata": {},
   "source": [
    "| Columns Name | Data Type, Length | Description | Present |\n",
    "| -- | -- | -- | -- |\n",
    "| customer_id | object | Key to the orders dataset. Each order has a unique customer_id.| Unique customer id to merge with orders dataset |\n",
    "| customer_unique_id | object | unique identifier of a customer.| represent customer unique id\n",
    "| customer_zip_code_prefix | int64 | first five digits of customer zip code| represent first five zip code of geolocation customer\n",
    "| customer_city  |  object |customer city name| a customer city name in brazzil\n",
    "| customer_state |  object |customer state| represent 2 letters of name customer sate\n",
    "| geolocation_zip_code_prefix | int64 |first 5 digits of zip code| represent first five zip code of geolocation city and state\n",
    "| geolocation_lat | float64 |Geolocation latitude| represent of the angular distance of a place north or south of the earth's equator, or of a celestial object north or south of the celestial equator, expressed in degrees.\n",
    "| geolocation_lng | float64 |Geolocation longitude| the angular distance of a place east or west of the meridian at Greenwich, England, or west of the standard meridian of a celestial object, expressed in degrees.\n",
    "| geolocation_city |  object |city name| represent of geolocation city name\n",
    "| geolocation_state |  object |state| represent 2 letter of state where the geolocation is \n",
    "| order_id  |  object |order unique identifier| An unique id where every transaction have order id\n",
    "| order_item_id | int64 |sequential number identifying number of items included in the same order.| A serial number for an unique identifier assigned  sequentially to an item, to uniquely identify it\n",
    "| product_id  |  object |product unique identifier| A serial number for a unique identifier assigned  to an product, to uniquely identify it\n",
    "| seller_id | object  |seller unique identifier| A serial number for a unique identifier assigned  to an seller, to uniquely identify it\n",
    "| shipping_limit_date| object  |Shows the seller shipping limit date for handling the order over to the logistic partner.| the estimated delivery date is when a customer can reasonably expect the order to arrive.\n",
    "| price | float64 |item price| the retail price of each item of consumer goods.\n",
    "| freight_value | float64 |item freight value item (if an order has more than one item the freight value is splitted between)|  a price at which a certain cargo is delivered from one point to another\n",
    "| payment_sequential | int64 |a customer may pay an order with more than one payment method. If he does so, a sequence will be| a sequential pay structure, principal payments are typically allocated to the securities in order of seniority.\n",
    "| payment_type |  object |method of payment chosen by the customer.| A various of type payment for customer to pay a transaction\n",
    "| payment_installments | int64 |number of installments chosen by the customer.| Instalment payments refer to a customer paying a bill in small portions throughout a fixed period of time\n",
    "| payment_value  | float64 | transaction value.| A total of amount money customer need to pay to succesfull transaction"
   ]
  },
  {
   "cell_type": "code",
   "execution_count": 11,
   "metadata": {},
   "outputs": [],
   "source": [
    "# Change the product name to english\n",
    "products = pd.read_csv(\"olist_products_dataset.csv\")\n",
    "prod_cat_name_tr = pd.read_csv(\"product_category_name_translation.csv\")\n",
    "products = products.merge(prod_cat_name_tr, on='product_category_name', how='left')\n",
    "products.drop ('product_category_name', axis=1, inplace=True)"
   ]
  },
  {
   "cell_type": "code",
   "execution_count": 12,
   "metadata": {},
   "outputs": [],
   "source": [
    "#load all the tables\n",
    "o_items = pd.read_csv(\"olist_order_items_dataset.csv\")\n",
    "orders = pd.read_csv(\"olist_orders_dataset.csv\")\n",
    "o_reviews = pd.read_csv(\"olist_order_reviews_dataset.csv\")\n",
    "geoloc = pd.read_csv(\"olist_geolocation_dataset.csv\")\n",
    "sellers = pd.read_csv(\"olist_sellers_dataset.csv\")\n",
    "o_payments = pd.read_csv(\"olist_order_payments_dataset.csv\")\n",
    "customers = pd.read_csv(\"olist_customers_dataset.csv\")"
   ]
  },
  {
   "cell_type": "code",
   "execution_count": 18,
   "metadata": {},
   "outputs": [],
   "source": [
    "# Join the needed table\n",
    "df = orders.merge(o_items, on='order_id', how='left')\n",
    "df = df.merge(o_payments, on='order_id', how='outer', validate='m:m')\n",
    "df = df.merge(products, on='product_id', how='outer')\n",
    "df = df.merge(customers, on='customer_id', how='outer')\n",
    "df = df.merge(sellers, on='seller_id', how='outer')"
   ]
  },
  {
   "cell_type": "code",
   "execution_count": 19,
   "metadata": {},
   "outputs": [],
   "source": [
    "# remove columns yang tidak butuh\n",
    "df = df.drop(axis=1,\n",
    "columns=['product_name_lenght',\n",
    "'product_description_lenght',\n",
    "'product_photos_qty',\n",
    "'product_weight_g',\n",
    "'product_length_cm',\n",
    "'product_height_cm',\n",
    "'product_width_cm',\n",
    "'order_delivered_carrier_date',\n",
    "'order_delivered_customer_date',\n",
    "'order_estimated_delivery_date'\n",
    ",'shipping_limit_date','order_approved_at'])"
   ]
  },
  {
   "cell_type": "code",
   "execution_count": 7,
   "metadata": {},
   "outputs": [],
   "source": [
    "# Data Sample untuk waktu komputasi lebih cepat \n",
    "df_sample = df.sample(10000)"
   ]
  },
  {
   "cell_type": "code",
   "execution_count": 20,
   "metadata": {},
   "outputs": [],
   "source": [
    "# Change to Datetime\n",
    "df['order_purchase_date']=pd.to_datetime(df['order_purchase_timestamp'])"
   ]
  },
  {
   "cell_type": "code",
   "execution_count": 21,
   "metadata": {},
   "outputs": [
    {
     "data": {
      "text/plain": [
       "0        2017-10-02\n",
       "1        2017-10-02\n",
       "2        2017-10-02\n",
       "3        2017-08-15\n",
       "4        2017-08-02\n",
       "            ...    \n",
       "118429   2018-07-01\n",
       "118430   2017-03-11\n",
       "118431   2018-07-24\n",
       "118432   2018-05-22\n",
       "118433   2018-05-15\n",
       "Name: order_purchase_date, Length: 118434, dtype: datetime64[ns]"
      ]
     },
     "execution_count": 21,
     "metadata": {},
     "output_type": "execute_result"
    }
   ],
   "source": [
    "df['order_purchase_date'] = df['order_purchase_date'].dt.strftime('%Y-%m-%d')\n",
    "df['order_purchase_date'] = pd.to_datetime(df['order_purchase_date'])\n",
    "df['order_purchase_date']\n"
   ]
  },
  {
   "cell_type": "markdown",
   "metadata": {},
   "source": [
    "## **Exploratory Data Analysis (EDA)**"
   ]
  },
  {
   "cell_type": "markdown",
   "metadata": {},
   "source": [
    "## **Data Distribution**"
   ]
  },
  {
   "cell_type": "code",
   "execution_count": 30,
   "metadata": {},
   "outputs": [
    {
     "name": "stderr",
     "output_type": "stream",
     "text": [
      "<ipython-input-30-43e47b4148fa>:2: DeprecationWarning: `np.object` is a deprecated alias for the builtin `object`. To silence this warning, use `object` by itself. Doing this will not modify any behavior and is safe. \n",
      "Deprecated in NumPy 1.20; for more details and guidance: https://numpy.org/devdocs/release/1.20.0-notes.html#deprecations\n",
      "  num_features = df.select_dtypes(exclude=[np.object]).columns\n"
     ]
    },
    {
     "data": {
      "text/html": [
       "<div>\n",
       "<style scoped>\n",
       "    .dataframe tbody tr th:only-of-type {\n",
       "        vertical-align: middle;\n",
       "    }\n",
       "\n",
       "    .dataframe tbody tr th {\n",
       "        vertical-align: top;\n",
       "    }\n",
       "\n",
       "    .dataframe thead th {\n",
       "        text-align: right;\n",
       "    }\n",
       "</style>\n",
       "<table border=\"1\" class=\"dataframe\">\n",
       "  <thead>\n",
       "    <tr style=\"text-align: right;\">\n",
       "      <th></th>\n",
       "      <th>order_item_id</th>\n",
       "      <th>price</th>\n",
       "      <th>freight_value</th>\n",
       "      <th>payment_sequential</th>\n",
       "      <th>payment_installments</th>\n",
       "      <th>payment_value</th>\n",
       "      <th>customer_zip_code_prefix</th>\n",
       "      <th>seller_zip_code_prefix</th>\n",
       "    </tr>\n",
       "  </thead>\n",
       "  <tbody>\n",
       "    <tr>\n",
       "      <th>count</th>\n",
       "      <td>117604.000000</td>\n",
       "      <td>117604.000000</td>\n",
       "      <td>117604.000000</td>\n",
       "      <td>118431.000000</td>\n",
       "      <td>118431.000000</td>\n",
       "      <td>118431.000000</td>\n",
       "      <td>118434.000000</td>\n",
       "      <td>117604.000000</td>\n",
       "    </tr>\n",
       "    <tr>\n",
       "      <th>mean</th>\n",
       "      <td>1.195920</td>\n",
       "      <td>120.822849</td>\n",
       "      <td>20.045551</td>\n",
       "      <td>1.094207</td>\n",
       "      <td>2.937398</td>\n",
       "      <td>172.849395</td>\n",
       "      <td>35034.264392</td>\n",
       "      <td>24442.886483</td>\n",
       "    </tr>\n",
       "    <tr>\n",
       "      <th>std</th>\n",
       "      <td>0.697721</td>\n",
       "      <td>184.477367</td>\n",
       "      <td>15.861351</td>\n",
       "      <td>0.728290</td>\n",
       "      <td>2.774164</td>\n",
       "      <td>268.259831</td>\n",
       "      <td>29819.290218</td>\n",
       "      <td>27573.802989</td>\n",
       "    </tr>\n",
       "    <tr>\n",
       "      <th>min</th>\n",
       "      <td>1.000000</td>\n",
       "      <td>0.850000</td>\n",
       "      <td>0.000000</td>\n",
       "      <td>1.000000</td>\n",
       "      <td>0.000000</td>\n",
       "      <td>0.000000</td>\n",
       "      <td>1003.000000</td>\n",
       "      <td>1001.000000</td>\n",
       "    </tr>\n",
       "    <tr>\n",
       "      <th>25%</th>\n",
       "      <td>1.000000</td>\n",
       "      <td>39.900000</td>\n",
       "      <td>13.080000</td>\n",
       "      <td>1.000000</td>\n",
       "      <td>1.000000</td>\n",
       "      <td>60.860000</td>\n",
       "      <td>11310.000000</td>\n",
       "      <td>6429.000000</td>\n",
       "    </tr>\n",
       "    <tr>\n",
       "      <th>50%</th>\n",
       "      <td>1.000000</td>\n",
       "      <td>74.900000</td>\n",
       "      <td>16.290000</td>\n",
       "      <td>1.000000</td>\n",
       "      <td>2.000000</td>\n",
       "      <td>108.200000</td>\n",
       "      <td>24240.000000</td>\n",
       "      <td>13660.000000</td>\n",
       "    </tr>\n",
       "    <tr>\n",
       "      <th>75%</th>\n",
       "      <td>1.000000</td>\n",
       "      <td>134.900000</td>\n",
       "      <td>21.190000</td>\n",
       "      <td>1.000000</td>\n",
       "      <td>4.000000</td>\n",
       "      <td>189.245000</td>\n",
       "      <td>58464.500000</td>\n",
       "      <td>28035.000000</td>\n",
       "    </tr>\n",
       "    <tr>\n",
       "      <th>max</th>\n",
       "      <td>21.000000</td>\n",
       "      <td>6735.000000</td>\n",
       "      <td>409.680000</td>\n",
       "      <td>29.000000</td>\n",
       "      <td>24.000000</td>\n",
       "      <td>13664.080000</td>\n",
       "      <td>99990.000000</td>\n",
       "      <td>99730.000000</td>\n",
       "    </tr>\n",
       "  </tbody>\n",
       "</table>\n",
       "</div>"
      ],
      "text/plain": [
       "       order_item_id          price  freight_value  payment_sequential  \\\n",
       "count  117604.000000  117604.000000  117604.000000       118431.000000   \n",
       "mean        1.195920     120.822849      20.045551            1.094207   \n",
       "std         0.697721     184.477367      15.861351            0.728290   \n",
       "min         1.000000       0.850000       0.000000            1.000000   \n",
       "25%         1.000000      39.900000      13.080000            1.000000   \n",
       "50%         1.000000      74.900000      16.290000            1.000000   \n",
       "75%         1.000000     134.900000      21.190000            1.000000   \n",
       "max        21.000000    6735.000000     409.680000           29.000000   \n",
       "\n",
       "       payment_installments  payment_value  customer_zip_code_prefix  \\\n",
       "count         118431.000000  118431.000000             118434.000000   \n",
       "mean               2.937398     172.849395              35034.264392   \n",
       "std                2.774164     268.259831              29819.290218   \n",
       "min                0.000000       0.000000               1003.000000   \n",
       "25%                1.000000      60.860000              11310.000000   \n",
       "50%                2.000000     108.200000              24240.000000   \n",
       "75%                4.000000     189.245000              58464.500000   \n",
       "max               24.000000   13664.080000              99990.000000   \n",
       "\n",
       "       seller_zip_code_prefix  \n",
       "count           117604.000000  \n",
       "mean             24442.886483  \n",
       "std              27573.802989  \n",
       "min               1001.000000  \n",
       "25%               6429.000000  \n",
       "50%              13660.000000  \n",
       "75%              28035.000000  \n",
       "max              99730.000000  "
      ]
     },
     "execution_count": 30,
     "metadata": {},
     "output_type": "execute_result"
    }
   ],
   "source": [
    "# Num features\n",
    "num_features = df.select_dtypes(exclude=[np.object]).columns\n",
    "df[num_features].describe()"
   ]
  },
  {
   "cell_type": "markdown",
   "metadata": {},
   "source": [
    "**Data may have not normal data distributions**\n",
    "\n",
    "Judging from the feature data that will be used in the freight value, payment value, price column, it will be an important numerical feature so further investigation is carried out to see the distribution in that column."
   ]
  },
  {
   "cell_type": "code",
   "execution_count": 34,
   "metadata": {},
   "outputs": [
    {
     "data": {
      "image/png": "[encoded data removed]",
      "text/plain": [
       "<Figure size 864x432 with 1 Axes>"
      ]
     },
     "metadata": {
      "needs_background": "light"
     },
     "output_type": "display_data"
    }
   ],
   "source": [
    "plt.figure( figsize=(12, 6))\n",
    "sns.histplot(data=df,x='price')\n",
    "plt.title('Data distribution in the price column', size=16)\n",
    "plt.xlabel('Columns Price_Value')\n",
    "plt.tight_layout()\n",
    "plt.show()"
   ]
  },
  {
   "cell_type": "markdown",
   "metadata": {},
   "source": [
    "**Price columns having long skews**"
   ]
  },
  {
   "cell_type": "code",
   "execution_count": 35,
   "metadata": {},
   "outputs": [
    {
     "data": {
      "image/png": "[encoded data removed]",
      "text/plain": [
       "<Figure size 864x432 with 1 Axes>"
      ]
     },
     "metadata": {
      "needs_background": "light"
     },
     "output_type": "display_data"
    }
   ],
   "source": [
    "plt.figure( figsize=(12, 6))\n",
    "sns.histplot(data=df,x='freight_value')\n",
    "plt.title('Data distribution in the price column', size=16)\n",
    "plt.xlabel('Columns Freight_Value')\n",
    "plt.tight_layout()\n",
    "plt.show()"
   ]
  },
  {
   "cell_type": "markdown",
   "metadata": {},
   "source": [
    "**Freight Value and Price Value having long skews in that sense payment_value equal freight_value + price will also have long skews**"
   ]
  },
  {
   "cell_type": "markdown",
   "metadata": {},
   "source": [
    "## **Data Correlation**"
   ]
  },
  {
   "cell_type": "code",
   "execution_count": 12,
   "metadata": {},
   "outputs": [
    {
     "data": {
      "text/plain": [
       "<AxesSubplot:title={'center':'Heatmap'}>"
      ]
     },
     "execution_count": 12,
     "metadata": {},
     "output_type": "execute_result"
    },
    {
     "data": {
      "image/png": "[encoded data removed]",
      "text/plain": [
       "<Figure size 1080x720 with 2 Axes>"
      ]
     },
     "metadata": {
      "needs_background": "light"
     },
     "output_type": "display_data"
    }
   ],
   "source": [
    "# Plot a heatmap to see correlation among numerical features\n",
    "mask = np.zeros_like(df.corr()) \n",
    "mask[np.triu_indices_from(mask)]=True\n",
    "\n",
    "plt.figure(figsize=(15, 10))\n",
    "plt.title('Heatmap', size=16)\n",
    "sns.heatmap(df.corr(method='spearman'), cmap='mako', mask=mask, vmax=1)"
   ]
  },
  {
   "cell_type": "markdown",
   "metadata": {},
   "source": [
    "**Within Correlation map payment value having correlation with price, freight value, payment installment, also the price and payment installment also have correlation**"
   ]
  },
  {
   "cell_type": "markdown",
   "metadata": {},
   "source": [
    "## **Data Cardinalities**"
   ]
  },
  {
   "cell_type": "code",
   "execution_count": 13,
   "metadata": {},
   "outputs": [
    {
     "name": "stderr",
     "output_type": "stream",
     "text": [
      "<ipython-input-13-1c134de196d1>:2: DeprecationWarning: `np.object` is a deprecated alias for the builtin `object`. To silence this warning, use `object` by itself. Doing this will not modify any behavior and is safe. \n",
      "Deprecated in NumPy 1.20; for more details and guidance: https://numpy.org/devdocs/release/1.20.0-notes.html#deprecations\n",
      "  cat_features = exclude.select_dtypes(include=[np.object]).columns\n"
     ]
    },
    {
     "data": {
      "text/html": [
       "<div>\n",
       "<style scoped>\n",
       "    .dataframe tbody tr th:only-of-type {\n",
       "        vertical-align: middle;\n",
       "    }\n",
       "\n",
       "    .dataframe tbody tr th {\n",
       "        vertical-align: top;\n",
       "    }\n",
       "\n",
       "    .dataframe thead th {\n",
       "        text-align: right;\n",
       "    }\n",
       "</style>\n",
       "<table border=\"1\" class=\"dataframe\">\n",
       "  <thead>\n",
       "    <tr style=\"text-align: right;\">\n",
       "      <th></th>\n",
       "      <th>order_status</th>\n",
       "      <th>payment_type</th>\n",
       "      <th>product_category_name_english</th>\n",
       "      <th>customer_city</th>\n",
       "      <th>customer_state</th>\n",
       "      <th>seller_city</th>\n",
       "      <th>seller_state</th>\n",
       "    </tr>\n",
       "  </thead>\n",
       "  <tbody>\n",
       "    <tr>\n",
       "      <th>count</th>\n",
       "      <td>118434</td>\n",
       "      <td>118431</td>\n",
       "      <td>115881</td>\n",
       "      <td>118434</td>\n",
       "      <td>118434</td>\n",
       "      <td>117604</td>\n",
       "      <td>117604</td>\n",
       "    </tr>\n",
       "    <tr>\n",
       "      <th>unique</th>\n",
       "      <td>8</td>\n",
       "      <td>5</td>\n",
       "      <td>71</td>\n",
       "      <td>4119</td>\n",
       "      <td>27</td>\n",
       "      <td>611</td>\n",
       "      <td>23</td>\n",
       "    </tr>\n",
       "    <tr>\n",
       "      <th>top</th>\n",
       "      <td>delivered</td>\n",
       "      <td>credit_card</td>\n",
       "      <td>bed_bath_table</td>\n",
       "      <td>sao paulo</td>\n",
       "      <td>SP</td>\n",
       "      <td>sao paulo</td>\n",
       "      <td>SP</td>\n",
       "    </tr>\n",
       "    <tr>\n",
       "      <th>freq</th>\n",
       "      <td>115038</td>\n",
       "      <td>87286</td>\n",
       "      <td>11823</td>\n",
       "      <td>18738</td>\n",
       "      <td>49967</td>\n",
       "      <td>29157</td>\n",
       "      <td>83854</td>\n",
       "    </tr>\n",
       "  </tbody>\n",
       "</table>\n",
       "</div>"
      ],
      "text/plain": [
       "       order_status payment_type product_category_name_english customer_city  \\\n",
       "count        118434       118431                        115881        118434   \n",
       "unique            8            5                            71          4119   \n",
       "top       delivered  credit_card                bed_bath_table     sao paulo   \n",
       "freq         115038        87286                         11823         18738   \n",
       "\n",
       "       customer_state seller_city seller_state  \n",
       "count          118434      117604       117604  \n",
       "unique             27         611           23  \n",
       "top                SP   sao paulo           SP  \n",
       "freq            49967       29157        83854  "
      ]
     },
     "execution_count": 13,
     "metadata": {},
     "output_type": "execute_result"
    }
   ],
   "source": [
    "exclude = df.drop(columns=['customer_id','order_id','order_purchase_timestamp','product_id','seller_id','customer_unique_id'],axis=1)\n",
    "cat_features = exclude.select_dtypes(include=[np.object]).columns\n",
    "df[cat_features].describe()"
   ]
  },
  {
   "cell_type": "code",
   "execution_count": 14,
   "metadata": {},
   "outputs": [
    {
     "name": "stdout",
     "output_type": "stream",
     "text": [
      " order_status: ['delivered' 'shipped' 'canceled' 'invoiced' 'processing' 'unavailable'\n",
      " 'created' 'approved']\n",
      "\n",
      " payment_type: ['credit_card' 'voucher' 'boleto' 'debit_card' 'not_defined' nan]\n",
      "\n",
      " product_category_name_english: ['housewares' 'baby' 'cool_stuff' 'sports_leisure' 'toys'\n",
      " 'furniture_decor' 'perfumery' 'health_beauty' 'pet_shop' 'music'\n",
      " 'computers' 'construction_tools_construction' 'signaling_and_security'\n",
      " 'auto' 'watches_gifts' 'audio' 'electronics' 'computers_accessories'\n",
      " 'telephony' 'consoles_games' 'stationery' 'party_supplies' nan\n",
      " 'fashion_male_clothing' 'fashio_female_clothing' 'food'\n",
      " 'costruction_tools_tools' 'fashion_bags_accessories' 'garden_tools'\n",
      " 'office_furniture' 'furniture_living_room' 'market_place'\n",
      " 'bed_bath_table' 'home_confort' 'art' 'home_construction'\n",
      " 'air_conditioning' 'agro_industry_and_commerce' 'fixed_telephony'\n",
      " 'musical_instruments' 'luggage_accessories' 'fashion_sport'\n",
      " 'fashion_shoes' 'home_appliances' 'small_appliances_home_oven_and_coffee'\n",
      " 'small_appliances' 'construction_tools_lights'\n",
      " 'kitchen_dining_laundry_garden_furniture'\n",
      " 'industry_commerce_and_business' 'drinks' 'food_drink'\n",
      " 'fashion_childrens_clothes' 'books_general_interest' 'home_appliances_2'\n",
      " 'diapers_and_hygiene' 'construction_tools_safety' 'christmas_supplies'\n",
      " 'furniture_mattress_and_upholstery' 'costruction_tools_garden'\n",
      " 'home_comfort_2' 'fashion_underwear_beach' 'arts_and_craftmanship'\n",
      " 'books_technical' 'dvds_blu_ray' 'flowers' 'cds_dvds_musicals'\n",
      " 'security_and_services' 'tablets_printing_image' 'furniture_bedroom'\n",
      " 'cine_photo' 'la_cuisine' 'books_imported']\n",
      "\n",
      " customer_city: ['sao paulo' 'florianopolis' 'itaquaquecetuba' ... 'itape' 'cedro'\n",
      " 'canto do buriti']\n",
      "\n",
      " customer_state: ['SP' 'SC' 'PR' 'RJ' 'MG' 'RS' 'CE' 'AM' 'BA' 'GO' 'PE' 'MT' 'DF' 'MS'\n",
      " 'RN' 'ES' 'PB' 'AL' 'PI' 'SE' 'MA' 'PA' 'AP' 'RO' 'RR' 'TO' 'AC']\n",
      "\n",
      " seller_city: ['maua' 'belo horizonte' 'sao goncalo' 'santo andre' 'limeira' 'guariba'\n",
      " 'formiga' 'pradopolis' 'mogi das cruzes' 'guarulhos' 'sao paulo'\n",
      " 'atibaia' 'sao jose do rio pardo' 'itaquaquecetuba' 'cariacica'\n",
      " 'porto alegre' 'sao jose dos campos' 'ribeirao preto' 'ibitinga'\n",
      " 'piracicaba' 'itajai' 'brasilia' 'jacarei' 'itatiba' 'tabatinga' 'mococa'\n",
      " 'curitiba' 'santa barbara d´oeste' 'praia grande' 'campinas' 'maringa'\n",
      " 'campo mourao' 'americana' 'ilicinea' 'rio do sul' 'joinville'\n",
      " 'rio claro' 'vicente de carvalho' 'salto' 'santo andre/sao paulo'\n",
      " 'capivari' 'bento goncalves' 'caxias do sul' 'sao bernardo do campo'\n",
      " 'claudio' 'monte siao' 'apucarana' 'pinhais' 'goiania' 'videira'\n",
      " 'sao jose do rio preto' 'bertioga' 'petropolis' 'borda da mata'\n",
      " 'sao roque' 'bauru' 'arapongas' 'ipaussu' 'rio de janeiro' 'colombo'\n",
      " 'santana de parnaiba' 'boituva' 'franca' 'sarandi' 'barueri' 'jaguaruna'\n",
      " 'sumare' 'porto ferreira' 'pedreira' 'tupa' 'osasco' 'sorocaba'\n",
      " 'aparecida de goiania' 'bombinhas' 'teresopolis' 'jundiai' 'blumenau'\n",
      " 'brusque' 'sete lagoas' 'cachoeirinha' 'louveira' 'londrina'\n",
      " 'presidente prudente' 'tres rios' 'uberlandia' 'hortolandia' 'sao carlos'\n",
      " 'santa rita do sapucai' 'campo limpo paulista' 'cotia' 'betim'\n",
      " 'araucaria' 'santos' 'fazenda rio grande' 'juiz de fora' 'uba' 'assis'\n",
      " 'jacutinga' 'campo largo' 'coxim' 'lajeado' 'foz do iguacu' 'mogi guacu'\n",
      " 'niteroi' 'sao ludgero' 'lauro de freitas' 'cascavel' 'taubate'\n",
      " 'jaboticabal' 'jales' 'parana' 'cruzeiro' 'garca' 'araguari' 'icara'\n",
      " 'sao caetano do sul' 'tubarao' 'itau de minas' 'penapolis' nan\n",
      " \"santa barbara d'oeste\" 'palhoca' 'cosmopolis' 'echapora' 'sao luis'\n",
      " 'sao jose' 'serra negra' 'guara' 'navegantes' 'jau' 'votorantim'\n",
      " 'caucaia' 'diadema' 'porto belo' 'taruma' 'marilia' 'novo hamburgo'\n",
      " 'amparo' 'florianopolis' 'rolandia' 'divinopolis' 'rio branco'\n",
      " 'catanduva' 'mirandopolis' 'jaragua do sul' 'baependi' 'jussara'\n",
      " 'congonhal' 'taboao da serra' 'aruja' 'rio bonito' 'salvador'\n",
      " 'sao joaquim da barra' 'laranjal paulista' 'pilar do sul' 'indaiatuba'\n",
      " 'mogi mirim' 'natal' 'contagem' 'conselheiro lafaiete' 'bebedouro'\n",
      " 'fronteira' 'itapecerica da serra' 'riberao preto' 'sao jose dos pinhais'\n",
      " 'cajamar' 'cuiaba' 'sao  paulo' 'rolante' 'andradas' 'cornelio procopio'\n",
      " 'botucatu' 'birigui' 'mage' 'tanabi' 'guaratuba' 'sao sebastiao'\n",
      " 'braganca paulista' 'dracena' 'brejao' 'paulinia' 'uniao da vitoria'\n",
      " 'poa' 'ribeirao pires' 'presidente epitacio' 'carazinho'\n",
      " 'coronel fabriciano' 'vila velha' 'volta redonda' 'nilopolis' 'itauna'\n",
      " 'concordia' 'macae' 'itapetininga' 'ribeirao preto / sao paulo'\n",
      " 'porto seguro' 'mesquita' 'pocos de caldas' 'sao bento do sul'\n",
      " 'sando andre' 'portoferreira' 'vendas@creditparts.com.br' 'carapicuiba'\n",
      " 'alvorada' 'conchal' 'alfenas' 'braco do norte' 'garuva' 'viamao'\n",
      " 'cerqueira cesar' 'mamanguape' 'cafelandia' 's jose do rio preto'\n",
      " 'tres coracoes' 'varzea paulista' 'montenegro' 'itu' 'pinhalzinho'\n",
      " 'cordeiropolis' 'patos de minas' 'duque de caxias' 'eunapolis'\n",
      " 'jaguariuna' 'lages' 'araraquara' 'votuporanga' 'muqui' 'canoas'\n",
      " 'ponta grossa' 'nova friburgo' 'armacao dos buzios' 'centro' 'criciuma'\n",
      " 'recife' 'queimados' 'sp' 'laranjeiras do sul' 'araras'\n",
      " 'balneario camboriu' 'nova iguacu' 'lencois paulista' 'novo horizonte'\n",
      " 'loanda' 'toledo' 'campo do meio' 'sao paulo - sp' 'congonhas'\n",
      " 'canoinhas' 'pelotas' 'mirassol' 'tatui' 'fortaleza' 'sao joao de meriti'\n",
      " 'aracatuba' 'sinop' 'barra velha' 'campo bom' 'anapolis'\n",
      " 'francisco beltrao' 'ouro fino' 'itajobi' 'gama' 'aperibe' 'barretos'\n",
      " 'suzano' 'guaruja' 'ponte nova' 'ferraz de vasconcelos' 'batatais'\n",
      " 'pompeia' 'ipatinga' 'sao joao del rei' 'dois corregos' 'colatina'\n",
      " 'uruacu' 'socorro' 'embu guacu' 'santo antonio de padua' 'viana'\n",
      " 'monte alto' 'rio verde' 'indaial' 'vassouras' 'santa maria' 'descalvado'\n",
      " 'itaborai' 'ribeirao das neves' 'ampere' 'bonfinopolis de minas' 'vicosa'\n",
      " 'umuarama' 'vitoria' 'valinhos' 'floresta' 'muriae' 'itaipulandia'\n",
      " 'pirituba' 'teresina' 'curitibanos' 'luziania' 'varginha' 'mandirituba'\n",
      " 'itapevi' 'ferraz de  vasconcelos' 'campina grande'\n",
      " 'scao jose do rio pardo' 'bofete' 'camanducaia' 'imbituba' 'timbo'\n",
      " 'itaporanga' 'parai' 'artur nogueira' 'sao pedro' 'mineiros do tiete'\n",
      " 'tiete' 'santa barbara d oeste' 'lagoa santa' 'monteiro lobato'\n",
      " 'registro' 'pato branco' 'carapicuiba / sao paulo' 'bariri' 'barra mansa'\n",
      " 'mogi das cruzes / sp' 'engenheiro coelho' 'teixeira soares' 'mucambo'\n",
      " 'alambari' 'mogi das cruses' 'parnamirim' 'massaranduba' 'mateus leme'\n",
      " 'fernandopolis' 'uberaba' 'pinhalao' 'serrana' 'flores da cunha' 'taio'\n",
      " 'saquarema' 'vargem grande do sul' 'sao jose do rio pret' 'farroupilha'\n",
      " 'angra dos reis' 'mairipora' 'pederneiras' 'morrinhos' 'tiradentes'\n",
      " 'ouro preto' 'entre rios do oeste' 'paraiba do sul' 'ilheus'\n",
      " \"arraial d'ajuda (porto seguro)\" 'timoteo' 'guanambi' 'torres'\n",
      " 'joao pessoa' 'campo magro' 'aparecida' 'campina das missoes' 'mombuca'\n",
      " 'tres de maio' 'arinos' 'bocaiuva do sul' 'andira-pr' 'ronda alta'\n",
      " 'nova lima' 'pitanga' 'porto velho' 'sao pedro da aldeia' 'paranavai'\n",
      " 'santo angelo' 'franco da rocha' 'buritama' 'resende' 'campo grande'\n",
      " 'extrema' 'santa catarina' 'barrinha' 'marechal candido rondon'\n",
      " 'bady bassitt' 'fernando prestes' 'ubatuba' 'ao bernardo do campo'\n",
      " 'caruaru' 'sombrio' 'cambe' 'tabao da serra' 'santa terezinha de itaipu'\n",
      " 'presidente getulio' 'leme' 'santa cruz do sul' 'neopolis' 'sao leopoldo'\n",
      " 'arvorezinha' 'rodeio' 'california' 'sertanopolis' 'mandaguacu'\n",
      " 'mairinque' 'marica' 'paulo lopes' 'carmo do cajuru' 'brasilia df'\n",
      " 'sp / sp' 'lagoa da prata' 'laurentino' '04482255' 'bom jardim'\n",
      " 'auriflama/sp' 'formosa do oeste' 'paincandu' 'campos dos goytacazes'\n",
      " 'nova odessa' 'rio grande' 'portao' 'venancio aires' 'jambeiro'\n",
      " 'santo antonio da patrulha' 'vargem grande paulista' 'cachoeira do sul'\n",
      " 'santa maria da serra' 'auriflama' 'manaus' 'vespasiano' 'castro'\n",
      " 'guanhaes' 'aracaju' 'presidente bernardes' 'joao pinheiro' 'serra'\n",
      " 'floranopolis' 'dores de campos' 'vitoria de santo antao'\n",
      " 'feira de santana' 'itapeva' 'governador valadares' 'igaracu do tiete'\n",
      " 'sabara' 'holambra' 'francisco morato' 'pinhais/pr' 'ipe'\n",
      " 'joao monlevade' 'santo antonio de posse' 'xanxere' 'pedregulho'\n",
      " 'afonso claudio' 'messias targino' 'jaci' 'luiz alves' 'garopaba'\n",
      " 'miguelopolis' 'cananeia' 'irece' 'japira' 'nova petropolis' 'olimpia'\n",
      " 'sao bento' 'cataguases' 'paraiso do sul' 'montes claros' 'clementina'\n",
      " 'formosa' 'rio negrinho' 'treze tilias' 'tocantins'\n",
      " 'sao bernardo do capo' 'cariacica / es' 'janauba' 'pato bragado' 'ibia'\n",
      " 'jacarei / sao paulo' 'estancia velha' 'angra dos reis rj' 'ji parana'\n",
      " 'colorado' 'chapeco' 'santa rosa de viterbo' 'divisa nova' 'bahia'\n",
      " 'sbc/sp' 'guaratingueta' 'garulhos' 'sao paulop' 'lorena' 'cianorte'\n",
      " 'jaragua' 'embu das artes' 'lambari'\n",
      " 'rio de janeiro, rio de janeiro, brasil' 'goioere' 'araxa'\n",
      " 'domingos martins' 'rio de janeiro / rio de janeiro' 'irati'\n",
      " 'piracanjuba' 'xaxim' 'bandeirantes' 'laguna' 'ipira' 'santa rosa'\n",
      " 'imbituva' 'orlandia' 'horizontina' 'osvaldo cruz' 'avare' 'guarapuava'\n",
      " 'serra redonda' 'belo horizont' 'cachoeiro de itapemirim' 'guaimbe'\n",
      " 'itirapina' 'alvares machado' 'gaspar' 'imbe' 'tres coroas' 'palotina'\n",
      " 'erechim' 'caieiras' 'imigrante' 'sao joao da boa vista' 'soledade'\n",
      " 'campos novos' 'sao paluo' 'sbc' 'cascavael' 'pedro leopoldo'\n",
      " 'barro alto' 'sao paulo / sao paulo' 'bom jesus dos perdoes' 'condor'\n",
      " 'pedrinhas paulista' 'caratinga' 'sao paulo sp' 'igrejinha' 'mandaguari'\n",
      " 'cravinhos' 'rio do oeste' 'triunfo' 'aguas claras df'\n",
      " 'sao sebastiao da grama/sp' 'passos' 'picarras' 'sao  jose dos pinhais'\n",
      " 'castro pires' 'santa terezinha de goias' 'jarinu' 'cacador' 'guiricema'\n",
      " 'rio de janeiro \\\\rio de janeiro' 'robeirao preto' 'itabira' 'nhandeara'\n",
      " 'terra boa' 'monte alegre do sul' 'santa cecilia' 'sao vicente'\n",
      " 'barbacena/ minas gerais' 'ararangua' 'macatuba' 'sao jose dos pinhas'\n",
      " 'belford roxo' 'brotas' \"sao miguel d'oeste\" 'maua/sao paulo'\n",
      " 'balenario camboriu' 'pouso alegre' 'itapema' 'nova trento'\n",
      " 'sao miguel do oeste' 'lages - sc' 'marapoama' 'medianeira' 'ivoti'\n",
      " 'varzea alegre' 'cordilheira alta'\n",
      " 'novo hamburgo, rio grande do sul, brasil' 'vera cruz' 'eusebio'\n",
      " 'sapiranga' 'paracambi' 'ribeirao pretp' 'camboriu' 'ourinhos' 'oliveira'\n",
      " 'ibirite' 'uruguaiana' 'tambau' 'pacatuba' 'orleans' 'jaciara'\n",
      " 'carmo da mata' 'marialva' 'minas gerais' 'sao francisco do sul'\n",
      " 'barbacena' 'bage' 'campanha' 'almirante tamandare' 'rio das pedras'\n",
      " 'itapui' 'abadia de goias' 'prados' 'pitangueiras' 'sao pauo'\n",
      " 'juzeiro do norte' 'ipua' 'guaira' 'araquari' 'são paulo' 'pirassununga']\n",
      "\n",
      " seller_state: ['SP' 'RJ' 'MG' 'ES' 'RS' 'DF' 'PR' 'SC' 'GO' 'MS' 'BA' nan 'MA' 'CE' 'AC'\n",
      " 'RN' 'MT' 'PE' 'PB' 'PI' 'RO' 'PA' 'SE' 'AM']\n",
      "\n"
     ]
    }
   ],
   "source": [
    "for i in cat_features:\n",
    "    print(f' {i}:', df[i].unique())\n",
    "    print()"
   ]
  },
  {
   "cell_type": "code",
   "execution_count": 76,
   "metadata": {},
   "outputs": [
    {
     "data": {
      "image/png": "[encoded data removed]",
      "text/plain": [
       "<Figure size 864x432 with 1 Axes>"
      ]
     },
     "metadata": {
      "needs_background": "light"
     },
     "output_type": "display_data"
    }
   ],
   "source": [
    "plt.figure(figsize=(12, 6))\n",
    "df_price_cat = df.groupby('order_status')['payment_value'].sum().sort_values()\n",
    "pal = sns.color_palette('coolwarm', len(df_price_cat))\n",
    "sns.barplot(x=df_price_cat.index, y=df_price_cat.values, palette=pal)    \n",
    "plt.title('BarPlot', size=16)\n",
    "plt.tight_layout()\n",
    "plt.show()"
   ]
  },
  {
   "cell_type": "code",
   "execution_count": 75,
   "metadata": {},
   "outputs": [
    {
     "data": {
      "image/png": "[encoded data removed]",
      "text/plain": [
       "<Figure size 864x432 with 1 Axes>"
      ]
     },
     "metadata": {
      "needs_background": "light"
     },
     "output_type": "display_data"
    }
   ],
   "source": [
    "plt.figure(figsize=(12, 6))\n",
    "df_price_cat = df[df['order_status'] != 'delivered'].groupby('order_status')['payment_value'].sum().sort_values()\n",
    "pal = sns.color_palette('coolwarm', len(df_price_cat))\n",
    "sns.barplot(x=df_price_cat.index, y=df_price_cat.values, palette=pal)    \n",
    "plt.title('BarPlot', size=16)\n",
    "plt.tight_layout()\n",
    "plt.show()"
   ]
  },
  {
   "cell_type": "code",
   "execution_count": 37,
   "metadata": {},
   "outputs": [],
   "source": [
    "top_10_product = df['product_category_name_english'].value_counts().sort_values(ascending=False).head(10).index\n",
    "df_top_10_product = df[df['product_category_name_english'].isin(top_10_product)]"
   ]
  },
  {
   "cell_type": "code",
   "execution_count": 39,
   "metadata": {},
   "outputs": [
    {
     "data": {
      "image/png": "[encoded data removed]",
      "text/plain": [
       "<Figure size 864x432 with 1 Axes>"
      ]
     },
     "metadata": {
      "needs_background": "light"
     },
     "output_type": "display_data"
    }
   ],
   "source": [
    "plt.figure(figsize=(12, 6))\n",
    "df_price_cat = df_top_10_product.groupby('product_category_name_english')['payment_value'].sum().sort_values()\n",
    "pal = sns.color_palette('coolwarm', len(df_price_cat))\n",
    "sns.barplot(x=df_price_cat.index, y=df_price_cat.values, palette=pal)    \n",
    "plt.title('Top 10 product having highest accumulative payment value', size=16)\n",
    "plt.tight_layout()\n",
    "plt.show()"
   ]
  },
  {
   "cell_type": "code",
   "execution_count": 40,
   "metadata": {},
   "outputs": [
    {
     "data": {
      "image/png": "[encoded data removed]",
      "text/plain": [
       "<Figure size 864x432 with 1 Axes>"
      ]
     },
     "metadata": {
      "needs_background": "light"
     },
     "output_type": "display_data"
    }
   ],
   "source": [
    "plt.figure(figsize=(12, 6))\n",
    "df_price_cat = df_sample.groupby('payment_type')['payment_value'].sum().sort_values()\n",
    "pal = sns.color_palette('coolwarm', len(df_price_cat))\n",
    "sns.barplot(x=df_price_cat.index, y=df_price_cat.values, palette=pal)    \n",
    "plt.title('Payments method that have the largest contribution to payment value', size=16)\n",
    "plt.tight_layout()\n",
    "plt.show()"
   ]
  },
  {
   "cell_type": "markdown",
   "metadata": {},
   "source": [
    "**Credit card and Boleto are the largest contribution in payment**"
   ]
  },
  {
   "cell_type": "code",
   "execution_count": 19,
   "metadata": {},
   "outputs": [],
   "source": [
    "top_10_customer_city = df['customer_city'].value_counts().sort_values(ascending=False).head(10).index\n",
    "df_top_10_customer_city = df[df['customer_city'].isin(top_10_customer_city)]"
   ]
  },
  {
   "cell_type": "code",
   "execution_count": 20,
   "metadata": {},
   "outputs": [
    {
     "data": {
      "image/png": "[encoded data removed]",
      "text/plain": [
       "<Figure size 864x432 with 1 Axes>"
      ]
     },
     "metadata": {
      "needs_background": "light"
     },
     "output_type": "display_data"
    }
   ],
   "source": [
    "plt.figure(figsize=(12, 6))\n",
    "df_price_cat = df_top_10_customer_city.groupby('customer_city')['payment_value'].sum().sort_values()\n",
    "pal = sns.color_palette('coolwarm', len(df_price_cat))\n",
    "sns.barplot(x=df_price_cat.index, y=df_price_cat.values, palette=pal)    \n",
    "plt.title('BarPlot', size=16)\n",
    "plt.tight_layout()\n",
    "plt.show()"
   ]
  },
  {
   "cell_type": "code",
   "execution_count": 21,
   "metadata": {},
   "outputs": [],
   "source": [
    "top_10_customer_state = df['customer_state'].value_counts().sort_values(ascending=False).head(10).index\n",
    "df_top_10_customer_state = df[df['customer_state'].isin(top_10_customer_state)]"
   ]
  },
  {
   "cell_type": "code",
   "execution_count": 22,
   "metadata": {},
   "outputs": [
    {
     "data": {
      "image/png": "[encoded data removed]",
      "text/plain": [
       "<Figure size 864x432 with 1 Axes>"
      ]
     },
     "metadata": {
      "needs_background": "light"
     },
     "output_type": "display_data"
    }
   ],
   "source": [
    "plt.figure(figsize=(12, 6))\n",
    "df_price_cat = df_top_10_customer_city.groupby('customer_state')['payment_value'].sum().sort_values()\n",
    "pal = sns.color_palette('coolwarm', len(df_price_cat))\n",
    "sns.barplot(x=df_price_cat.index, y=df_price_cat.values, palette=pal)    \n",
    "plt.title('BarPlot', size=16)\n",
    "plt.tight_layout()\n",
    "plt.show()"
   ]
  },
  {
   "cell_type": "code",
   "execution_count": 23,
   "metadata": {},
   "outputs": [],
   "source": [
    "# Product termahal\n",
    "most_expensive_product = df.groupby('product_category_name_english')['price'].max().sort_values(ascending=False).head(10).index\n",
    "df_most_expensive_product = df[df['product_category_name_english'].isin(most_expensive_product)]"
   ]
  },
  {
   "cell_type": "code",
   "execution_count": 24,
   "metadata": {},
   "outputs": [
    {
     "data": {
      "image/png": "[encoded data removed]",
      "text/plain": [
       "<Figure size 864x432 with 1 Axes>"
      ]
     },
     "metadata": {
      "needs_background": "light"
     },
     "output_type": "display_data"
    }
   ],
   "source": [
    "plt.figure(figsize=(12, 6))\n",
    "df_price_cat = df_most_expensive_product.groupby('product_category_name_english')['price'].mean().sort_values()\n",
    "pal = sns.color_palette('coolwarm', len(df_price_cat))\n",
    "sns.barplot(x=df_price_cat.index, y=df_price_cat.values, palette=pal)    \n",
    "plt.title('BarPlot', size=16)\n",
    "plt.tight_layout()\n",
    "plt.show()"
   ]
  },
  {
   "cell_type": "markdown",
   "metadata": {},
   "source": [
    "## **Indentify missing value, outlier,anomaly,duplicates,etc**"
   ]
  },
  {
   "cell_type": "code",
   "execution_count": 25,
   "metadata": {},
   "outputs": [
    {
     "data": {
      "text/plain": [
       "order_id                            0\n",
       "customer_id                         0\n",
       "order_status                        0\n",
       "order_purchase_timestamp            0\n",
       "order_item_id                     830\n",
       "product_id                        830\n",
       "seller_id                         830\n",
       "price                             830\n",
       "freight_value                     830\n",
       "payment_sequential                  3\n",
       "payment_type                        3\n",
       "payment_installments                3\n",
       "payment_value                       3\n",
       "product_category_name_english    2553\n",
       "customer_unique_id                  0\n",
       "customer_zip_code_prefix            0\n",
       "customer_city                       0\n",
       "customer_state                      0\n",
       "seller_zip_code_prefix            830\n",
       "seller_city                       830\n",
       "seller_state                      830\n",
       "dtype: int64"
      ]
     },
     "execution_count": 25,
     "metadata": {},
     "output_type": "execute_result"
    }
   ],
   "source": [
    "df.isna().sum()"
   ]
  },
  {
   "cell_type": "code",
   "execution_count": 26,
   "metadata": {},
   "outputs": [
    {
     "data": {
      "text/plain": [
       "array(['unavailable', 'canceled', 'created', 'shipped', 'invoiced'],\n",
       "      dtype=object)"
      ]
     },
     "execution_count": 26,
     "metadata": {},
     "output_type": "execute_result"
    }
   ],
   "source": [
    "df[df['seller_id'].isna()]['order_status'].unique() #terdapat masalah seller yang tidak ada id nya paket tidak pernah sampai"
   ]
  },
  {
   "cell_type": "code",
   "execution_count": 33,
   "metadata": {},
   "outputs": [
    {
     "data": {
      "text/plain": [
       "count    117604.000000\n",
       "mean        120.822849\n",
       "std         184.477367\n",
       "min           0.850000\n",
       "25%          39.900000\n",
       "50%          74.900000\n",
       "75%         134.900000\n",
       "max        6735.000000\n",
       "Name: price, dtype: float64"
      ]
     },
     "execution_count": 33,
     "metadata": {},
     "output_type": "execute_result"
    }
   ],
   "source": [
    "df['price'].describe()"
   ]
  },
  {
   "cell_type": "code",
   "execution_count": 26,
   "metadata": {},
   "outputs": [
    {
     "name": "stdout",
     "output_type": "stream",
     "text": [
      "price    outliers is bellow -102.6, and above 277.4\n",
      "freight_value    outliers is bellow 0.9149999999999974, and above 33.355000000000004\n",
      "payment_value    outliers is bellow -131.71749999999997, and above 381.8225\n",
      "numbers outliers in columns price is bottom outliers = 0 and upper outliers = 8844 \n",
      "numbers outliers in columns freight_value is bottom outliers = 534 and upper outliers = 12149 \n",
      "numbers outliers in columns payment_value is bottom outliers = 0 and upper outliers = 9580 \n"
     ]
    }
   ],
   "source": [
    "# Count IQR where so many outliers\n",
    "# Freight Value, Payment Value, Price\n",
    "outliers = 'price','freight_value','payment_value'\n",
    "outliers_list = []\n",
    "def count_outliers(columns_name_with_outliers):\n",
    "    outliers_list = []\n",
    "    for i in columns_name_with_outliers:\n",
    "        low_outliers = df[i].describe()[4] - 1.5*abs(df[i].describe()[4] - df[i].describe()[6])\n",
    "        upper_outliers =  df[i].describe()[6] + 1.5*abs(df[i].describe()[4] - df[i].describe()[6])\n",
    "        print(i + f'    outliers is bellow {low_outliers}, and above {upper_outliers}')\n",
    "        outliers_list.append([i,low_outliers,upper_outliers])\n",
    "    for i in range(len(outliers_list)):\n",
    "        outliers_count_bottom = df[df[outliers_list[i][0]] < outliers_list[i][1]][outliers_list[i][0]].count()\n",
    "        outliers_count_upper = df[df[outliers_list[i][0]] > outliers_list[i][2]][outliers_list[i][0]].count()\n",
    "        print(f'numbers outliers in columns {outliers_list[i][0]} is bottom outliers = {outliers_count_bottom} and upper outliers = {outliers_count_upper} ')\n",
    "        \n",
    "count_outliers(outliers)"
   ]
  },
  {
   "cell_type": "code",
   "execution_count": 53,
   "metadata": {},
   "outputs": [
    {
     "name": "stdout",
     "output_type": "stream",
     "text": [
      "['price'] the catogeroy is Index([], dtype='object') and Index(['health_beauty', 'watches_gifts', 'sports_leisure', 'auto',\n",
      "       'cool_stuff'],\n",
      "      dtype='object')\n",
      "['freight_value'] the catogeroy is Index(['watches_gifts', 'furniture_decor', 'garden_tools', 'health_beauty',\n",
      "       'computers_accessories'],\n",
      "      dtype='object') and Index(['furniture_decor', 'office_furniture', 'garden_tools', 'housewares',\n",
      "       'computers_accessories'],\n",
      "      dtype='object')\n",
      "['payment_value'] the catogeroy is Index([], dtype='object') and Index(['computers_accessories', 'health_beauty', 'watches_gifts',\n",
      "       'bed_bath_table', 'furniture_decor'],\n",
      "      dtype='object')\n"
     ]
    }
   ],
   "source": [
    "# Category item with having price with outliers top 5 by value_counts\n",
    "for i in range(len(outliers_list)):\n",
    "    category_1 =df[df[outliers_list[i][0]] < outliers_list[i][1]]['product_category_name_english'].value_counts().head(5).index\n",
    "    category_2 =df[df[outliers_list[i][0]] > outliers_list[i][2]]['product_category_name_english'].value_counts().head(5).index\n",
    "    print(f'{[outliers_list[i][0]]} the catogeroy is {category_1} and {category_2}')"
   ]
  },
  {
   "cell_type": "code",
   "execution_count": 54,
   "metadata": {},
   "outputs": [
    {
     "data": {
      "text/html": [
       "<div>\n",
       "<style scoped>\n",
       "    .dataframe tbody tr th:only-of-type {\n",
       "        vertical-align: middle;\n",
       "    }\n",
       "\n",
       "    .dataframe tbody tr th {\n",
       "        vertical-align: top;\n",
       "    }\n",
       "\n",
       "    .dataframe thead th {\n",
       "        text-align: right;\n",
       "    }\n",
       "</style>\n",
       "<table border=\"1\" class=\"dataframe\">\n",
       "  <thead>\n",
       "    <tr style=\"text-align: right;\">\n",
       "      <th></th>\n",
       "      <th>order_id</th>\n",
       "      <th>customer_id</th>\n",
       "      <th>order_status</th>\n",
       "      <th>order_purchase_timestamp</th>\n",
       "      <th>order_item_id</th>\n",
       "      <th>product_id</th>\n",
       "      <th>seller_id</th>\n",
       "      <th>price</th>\n",
       "      <th>freight_value</th>\n",
       "      <th>payment_sequential</th>\n",
       "      <th>...</th>\n",
       "      <th>payment_installments</th>\n",
       "      <th>payment_value</th>\n",
       "      <th>product_category_name_english</th>\n",
       "      <th>customer_unique_id</th>\n",
       "      <th>customer_zip_code_prefix</th>\n",
       "      <th>customer_city</th>\n",
       "      <th>customer_state</th>\n",
       "      <th>seller_zip_code_prefix</th>\n",
       "      <th>seller_city</th>\n",
       "      <th>seller_state</th>\n",
       "    </tr>\n",
       "  </thead>\n",
       "  <tbody>\n",
       "    <tr>\n",
       "      <th>59579</th>\n",
       "      <td>00b1cb0320190ca0daa2c88b35206009</td>\n",
       "      <td>3532ba38a3fd242259a514ac2b6ae6b6</td>\n",
       "      <td>canceled</td>\n",
       "      <td>2018-08-28 15:26:39</td>\n",
       "      <td>NaN</td>\n",
       "      <td>NaN</td>\n",
       "      <td>NaN</td>\n",
       "      <td>NaN</td>\n",
       "      <td>NaN</td>\n",
       "      <td>1.0</td>\n",
       "      <td>...</td>\n",
       "      <td>1.0</td>\n",
       "      <td>0.0</td>\n",
       "      <td>NaN</td>\n",
       "      <td>4fa4365000c7090fcb8cad5713c6d3db</td>\n",
       "      <td>1151</td>\n",
       "      <td>sao paulo</td>\n",
       "      <td>SP</td>\n",
       "      <td>NaN</td>\n",
       "      <td>NaN</td>\n",
       "      <td>NaN</td>\n",
       "    </tr>\n",
       "    <tr>\n",
       "      <th>59912</th>\n",
       "      <td>4637ca194b6387e2d538dc89b124b0ee</td>\n",
       "      <td>a73c1f73f5772cf801434bf984b0b1a7</td>\n",
       "      <td>canceled</td>\n",
       "      <td>2018-09-03 14:14:25</td>\n",
       "      <td>NaN</td>\n",
       "      <td>NaN</td>\n",
       "      <td>NaN</td>\n",
       "      <td>NaN</td>\n",
       "      <td>NaN</td>\n",
       "      <td>1.0</td>\n",
       "      <td>...</td>\n",
       "      <td>1.0</td>\n",
       "      <td>0.0</td>\n",
       "      <td>NaN</td>\n",
       "      <td>968fac81e2c44fb6c1e3ac2a45e6a102</td>\n",
       "      <td>4685</td>\n",
       "      <td>sao paulo</td>\n",
       "      <td>SP</td>\n",
       "      <td>NaN</td>\n",
       "      <td>NaN</td>\n",
       "      <td>NaN</td>\n",
       "    </tr>\n",
       "    <tr>\n",
       "      <th>59916</th>\n",
       "      <td>c8c528189310eaa44a745b8d9d26908b</td>\n",
       "      <td>197a2a6a77da93f678ea0d379f21da0a</td>\n",
       "      <td>canceled</td>\n",
       "      <td>2018-08-28 20:05:14</td>\n",
       "      <td>NaN</td>\n",
       "      <td>NaN</td>\n",
       "      <td>NaN</td>\n",
       "      <td>NaN</td>\n",
       "      <td>NaN</td>\n",
       "      <td>1.0</td>\n",
       "      <td>...</td>\n",
       "      <td>1.0</td>\n",
       "      <td>0.0</td>\n",
       "      <td>NaN</td>\n",
       "      <td>6ba987d564bad1f9da8e14b9d3b71c8f</td>\n",
       "      <td>8042</td>\n",
       "      <td>sao paulo</td>\n",
       "      <td>SP</td>\n",
       "      <td>NaN</td>\n",
       "      <td>NaN</td>\n",
       "      <td>NaN</td>\n",
       "    </tr>\n",
       "  </tbody>\n",
       "</table>\n",
       "<p>3 rows × 21 columns</p>\n",
       "</div>"
      ],
      "text/plain": [
       "                               order_id                       customer_id  \\\n",
       "59579  00b1cb0320190ca0daa2c88b35206009  3532ba38a3fd242259a514ac2b6ae6b6   \n",
       "59912  4637ca194b6387e2d538dc89b124b0ee  a73c1f73f5772cf801434bf984b0b1a7   \n",
       "59916  c8c528189310eaa44a745b8d9d26908b  197a2a6a77da93f678ea0d379f21da0a   \n",
       "\n",
       "      order_status order_purchase_timestamp  order_item_id product_id  \\\n",
       "59579     canceled      2018-08-28 15:26:39            NaN        NaN   \n",
       "59912     canceled      2018-09-03 14:14:25            NaN        NaN   \n",
       "59916     canceled      2018-08-28 20:05:14            NaN        NaN   \n",
       "\n",
       "      seller_id  price  freight_value  payment_sequential  ...  \\\n",
       "59579       NaN    NaN            NaN                 1.0  ...   \n",
       "59912       NaN    NaN            NaN                 1.0  ...   \n",
       "59916       NaN    NaN            NaN                 1.0  ...   \n",
       "\n",
       "      payment_installments  payment_value  product_category_name_english  \\\n",
       "59579                  1.0            0.0                            NaN   \n",
       "59912                  1.0            0.0                            NaN   \n",
       "59916                  1.0            0.0                            NaN   \n",
       "\n",
       "                     customer_unique_id customer_zip_code_prefix  \\\n",
       "59579  4fa4365000c7090fcb8cad5713c6d3db                     1151   \n",
       "59912  968fac81e2c44fb6c1e3ac2a45e6a102                     4685   \n",
       "59916  6ba987d564bad1f9da8e14b9d3b71c8f                     8042   \n",
       "\n",
       "       customer_city customer_state seller_zip_code_prefix  seller_city  \\\n",
       "59579      sao paulo             SP                    NaN          NaN   \n",
       "59912      sao paulo             SP                    NaN          NaN   \n",
       "59916      sao paulo             SP                    NaN          NaN   \n",
       "\n",
       "      seller_state  \n",
       "59579          NaN  \n",
       "59912          NaN  \n",
       "59916          NaN  \n",
       "\n",
       "[3 rows x 21 columns]"
      ]
     },
     "execution_count": 54,
     "metadata": {},
     "output_type": "execute_result"
    }
   ],
   "source": [
    "# There anomaly in payment type\n",
    "\n",
    "df[df['payment_type'] == 'not_defined']\n",
    "# Need to be removed"
   ]
  },
  {
   "cell_type": "code",
   "execution_count": 66,
   "metadata": {},
   "outputs": [
    {
     "data": {
      "text/plain": [
       "perfumery      2\n",
       "baby           2\n",
       "cool_stuff     1\n",
       "auto           1\n",
       "electronics    1\n",
       "Name: product_category_name_english, dtype: int64"
      ]
     },
     "execution_count": 66,
     "metadata": {},
     "output_type": "execute_result"
    }
   ],
   "source": [
    "df[df['order_status'] == 'unavailable']['product_category_name_english'].value_counts()"
   ]
  }
 ],
 "metadata": {
  "interpreter": {
   "hash": "3d72cc5bd2f32e864ec0df420779aef0184c22840f6350688eccba15806935a9"
  },
  "kernelspec": {
   "display_name": "Python 3.8.8 64-bit ('base': conda)",
   "name": "python3"
  },
  "language_info": {
   "codemirror_mode": {
    "name": "ipython",
    "version": 3
   },
   "file_extension": ".py",
   "mimetype": "text/x-python",
   "name": "python",
   "nbconvert_exporter": "python",
   "pygments_lexer": "ipython3",
   "version": "3.8.8"
  },
  "orig_nbformat": 4
 },
 "nbformat": 4,
 "nbformat_minor": 2
}
